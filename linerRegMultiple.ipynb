{
 "cells": [
  {
   "cell_type": "code",
   "execution_count": 2,
   "id": "129c778a-5bbe-4b6d-88f2-aa8a02e4e4a3",
   "metadata": {},
   "outputs": [],
   "source": [
    "import pandas as pd\n",
    "import numpy as np\n",
    "from sklearn import linear_model"
   ]
  },
  {
   "cell_type": "code",
   "execution_count": 3,
   "id": "a36d4ffc-4d41-4d87-bb4e-aa391944430c",
   "metadata": {},
   "outputs": [],
   "source": [
    "df = pd.read_csv('4.car data.csv')"
   ]
  },
  {
   "cell_type": "code",
   "execution_count": 4,
   "id": "6a469bb6-39ee-41f0-ba37-90d327665ed9",
   "metadata": {},
   "outputs": [
    {
     "data": {
      "text/html": [
       "<div>\n",
       "<style scoped>\n",
       "    .dataframe tbody tr th:only-of-type {\n",
       "        vertical-align: middle;\n",
       "    }\n",
       "\n",
       "    .dataframe tbody tr th {\n",
       "        vertical-align: top;\n",
       "    }\n",
       "\n",
       "    .dataframe thead th {\n",
       "        text-align: right;\n",
       "    }\n",
       "</style>\n",
       "<table border=\"1\" class=\"dataframe\">\n",
       "  <thead>\n",
       "    <tr style=\"text-align: right;\">\n",
       "      <th></th>\n",
       "      <th>speed</th>\n",
       "      <th>car_age</th>\n",
       "      <th>experience</th>\n",
       "      <th>risk</th>\n",
       "    </tr>\n",
       "  </thead>\n",
       "  <tbody>\n",
       "    <tr>\n",
       "      <th>0</th>\n",
       "      <td>172</td>\n",
       "      <td>22</td>\n",
       "      <td>8.104042</td>\n",
       "      <td>42</td>\n",
       "    </tr>\n",
       "    <tr>\n",
       "      <th>1</th>\n",
       "      <td>94</td>\n",
       "      <td>17</td>\n",
       "      <td>11.429461</td>\n",
       "      <td>36</td>\n",
       "    </tr>\n",
       "    <tr>\n",
       "      <th>2</th>\n",
       "      <td>186</td>\n",
       "      <td>20</td>\n",
       "      <td>14.819477</td>\n",
       "      <td>45</td>\n",
       "    </tr>\n",
       "    <tr>\n",
       "      <th>3</th>\n",
       "      <td>151</td>\n",
       "      <td>10</td>\n",
       "      <td>15.343897</td>\n",
       "      <td>38</td>\n",
       "    </tr>\n",
       "    <tr>\n",
       "      <th>4</th>\n",
       "      <td>100</td>\n",
       "      <td>6</td>\n",
       "      <td>16.455807</td>\n",
       "      <td>47</td>\n",
       "    </tr>\n",
       "    <tr>\n",
       "      <th>...</th>\n",
       "      <td>...</td>\n",
       "      <td>...</td>\n",
       "      <td>...</td>\n",
       "      <td>...</td>\n",
       "    </tr>\n",
       "    <tr>\n",
       "      <th>275</th>\n",
       "      <td>165</td>\n",
       "      <td>10</td>\n",
       "      <td>8.630563</td>\n",
       "      <td>20</td>\n",
       "    </tr>\n",
       "    <tr>\n",
       "      <th>276</th>\n",
       "      <td>130</td>\n",
       "      <td>26</td>\n",
       "      <td>6.656316</td>\n",
       "      <td>49</td>\n",
       "    </tr>\n",
       "    <tr>\n",
       "      <th>277</th>\n",
       "      <td>142</td>\n",
       "      <td>19</td>\n",
       "      <td>14.610983</td>\n",
       "      <td>20</td>\n",
       "    </tr>\n",
       "    <tr>\n",
       "      <th>278</th>\n",
       "      <td>204</td>\n",
       "      <td>7</td>\n",
       "      <td>13.874352</td>\n",
       "      <td>45</td>\n",
       "    </tr>\n",
       "    <tr>\n",
       "      <th>279</th>\n",
       "      <td>137</td>\n",
       "      <td>3</td>\n",
       "      <td>3.334615</td>\n",
       "      <td>68</td>\n",
       "    </tr>\n",
       "  </tbody>\n",
       "</table>\n",
       "<p>280 rows × 4 columns</p>\n",
       "</div>"
      ],
      "text/plain": [
       "     speed  car_age  experience  risk\n",
       "0      172       22    8.104042    42\n",
       "1       94       17   11.429461    36\n",
       "2      186       20   14.819477    45\n",
       "3      151       10   15.343897    38\n",
       "4      100        6   16.455807    47\n",
       "..     ...      ...         ...   ...\n",
       "275    165       10    8.630563    20\n",
       "276    130       26    6.656316    49\n",
       "277    142       19   14.610983    20\n",
       "278    204        7   13.874352    45\n",
       "279    137        3    3.334615    68\n",
       "\n",
       "[280 rows x 4 columns]"
      ]
     },
     "execution_count": 4,
     "metadata": {},
     "output_type": "execute_result"
    }
   ],
   "source": [
    "df"
   ]
  },
  {
   "cell_type": "code",
   "execution_count": 5,
   "id": "209bad0c-72c5-47f2-a289-fd31c121d5a6",
   "metadata": {},
   "outputs": [
    {
     "data": {
      "text/plain": [
       "0       8.104042\n",
       "1      11.429461\n",
       "2      14.819477\n",
       "3      15.343897\n",
       "4      16.455807\n",
       "         ...    \n",
       "275     8.630563\n",
       "276     6.656316\n",
       "277    14.610983\n",
       "278    13.874352\n",
       "279     3.334615\n",
       "Name: experience, Length: 280, dtype: float64"
      ]
     },
     "execution_count": 5,
     "metadata": {},
     "output_type": "execute_result"
    }
   ],
   "source": [
    "df.experience"
   ]
  },
  {
   "cell_type": "code",
   "execution_count": 6,
   "id": "863ab1b5-b2ba-4d59-9bb0-cc68cefb6ab4",
   "metadata": {},
   "outputs": [],
   "source": [
    "exm_fit = df.experience.mean()"
   ]
  },
  {
   "cell_type": "code",
   "execution_count": 7,
   "id": "6d33ccf1-4be9-40ba-b4f6-242246adef17",
   "metadata": {},
   "outputs": [
    {
     "data": {
      "text/plain": [
       "10.124916517871657"
      ]
     },
     "execution_count": 7,
     "metadata": {},
     "output_type": "execute_result"
    }
   ],
   "source": [
    "exm_fit"
   ]
  },
  {
   "cell_type": "code",
   "execution_count": 8,
   "id": "25b18fd6-3b53-4211-8bbe-6ed014e0e13c",
   "metadata": {},
   "outputs": [],
   "source": [
    "df.experience = df.experience.fillna(exm_fit)"
   ]
  },
  {
   "cell_type": "code",
   "execution_count": 9,
   "id": "dfea507a-0285-4aaa-a021-e1fc155f3e00",
   "metadata": {},
   "outputs": [
    {
     "data": {
      "text/html": [
       "<div>\n",
       "<style scoped>\n",
       "    .dataframe tbody tr th:only-of-type {\n",
       "        vertical-align: middle;\n",
       "    }\n",
       "\n",
       "    .dataframe tbody tr th {\n",
       "        vertical-align: top;\n",
       "    }\n",
       "\n",
       "    .dataframe thead th {\n",
       "        text-align: right;\n",
       "    }\n",
       "</style>\n",
       "<table border=\"1\" class=\"dataframe\">\n",
       "  <thead>\n",
       "    <tr style=\"text-align: right;\">\n",
       "      <th></th>\n",
       "      <th>speed</th>\n",
       "      <th>car_age</th>\n",
       "      <th>experience</th>\n",
       "      <th>risk</th>\n",
       "    </tr>\n",
       "  </thead>\n",
       "  <tbody>\n",
       "    <tr>\n",
       "      <th>0</th>\n",
       "      <td>172</td>\n",
       "      <td>22</td>\n",
       "      <td>8.104042</td>\n",
       "      <td>42</td>\n",
       "    </tr>\n",
       "    <tr>\n",
       "      <th>1</th>\n",
       "      <td>94</td>\n",
       "      <td>17</td>\n",
       "      <td>11.429461</td>\n",
       "      <td>36</td>\n",
       "    </tr>\n",
       "    <tr>\n",
       "      <th>2</th>\n",
       "      <td>186</td>\n",
       "      <td>20</td>\n",
       "      <td>14.819477</td>\n",
       "      <td>45</td>\n",
       "    </tr>\n",
       "    <tr>\n",
       "      <th>3</th>\n",
       "      <td>151</td>\n",
       "      <td>10</td>\n",
       "      <td>15.343897</td>\n",
       "      <td>38</td>\n",
       "    </tr>\n",
       "    <tr>\n",
       "      <th>4</th>\n",
       "      <td>100</td>\n",
       "      <td>6</td>\n",
       "      <td>16.455807</td>\n",
       "      <td>47</td>\n",
       "    </tr>\n",
       "    <tr>\n",
       "      <th>...</th>\n",
       "      <td>...</td>\n",
       "      <td>...</td>\n",
       "      <td>...</td>\n",
       "      <td>...</td>\n",
       "    </tr>\n",
       "    <tr>\n",
       "      <th>275</th>\n",
       "      <td>165</td>\n",
       "      <td>10</td>\n",
       "      <td>8.630563</td>\n",
       "      <td>20</td>\n",
       "    </tr>\n",
       "    <tr>\n",
       "      <th>276</th>\n",
       "      <td>130</td>\n",
       "      <td>26</td>\n",
       "      <td>6.656316</td>\n",
       "      <td>49</td>\n",
       "    </tr>\n",
       "    <tr>\n",
       "      <th>277</th>\n",
       "      <td>142</td>\n",
       "      <td>19</td>\n",
       "      <td>14.610983</td>\n",
       "      <td>20</td>\n",
       "    </tr>\n",
       "    <tr>\n",
       "      <th>278</th>\n",
       "      <td>204</td>\n",
       "      <td>7</td>\n",
       "      <td>13.874352</td>\n",
       "      <td>45</td>\n",
       "    </tr>\n",
       "    <tr>\n",
       "      <th>279</th>\n",
       "      <td>137</td>\n",
       "      <td>3</td>\n",
       "      <td>3.334615</td>\n",
       "      <td>68</td>\n",
       "    </tr>\n",
       "  </tbody>\n",
       "</table>\n",
       "<p>280 rows × 4 columns</p>\n",
       "</div>"
      ],
      "text/plain": [
       "     speed  car_age  experience  risk\n",
       "0      172       22    8.104042    42\n",
       "1       94       17   11.429461    36\n",
       "2      186       20   14.819477    45\n",
       "3      151       10   15.343897    38\n",
       "4      100        6   16.455807    47\n",
       "..     ...      ...         ...   ...\n",
       "275    165       10    8.630563    20\n",
       "276    130       26    6.656316    49\n",
       "277    142       19   14.610983    20\n",
       "278    204        7   13.874352    45\n",
       "279    137        3    3.334615    68\n",
       "\n",
       "[280 rows x 4 columns]"
      ]
     },
     "execution_count": 9,
     "metadata": {},
     "output_type": "execute_result"
    }
   ],
   "source": [
    "df"
   ]
  },
  {
   "cell_type": "code",
   "execution_count": 10,
   "id": "412f17bb-4a1b-4689-8d2c-dd3bebe380b7",
   "metadata": {},
   "outputs": [],
   "source": [
    "reg = linear_model.LinearRegression()"
   ]
  },
  {
   "cell_type": "code",
   "execution_count": 11,
   "id": "ab6da870-1605-4363-a72a-43a4fe898db2",
   "metadata": {},
   "outputs": [
    {
     "data": {
      "text/html": [
       "<style>#sk-container-id-1 {color: black;}#sk-container-id-1 pre{padding: 0;}#sk-container-id-1 div.sk-toggleable {background-color: white;}#sk-container-id-1 label.sk-toggleable__label {cursor: pointer;display: block;width: 100%;margin-bottom: 0;padding: 0.3em;box-sizing: border-box;text-align: center;}#sk-container-id-1 label.sk-toggleable__label-arrow:before {content: \"▸\";float: left;margin-right: 0.25em;color: #696969;}#sk-container-id-1 label.sk-toggleable__label-arrow:hover:before {color: black;}#sk-container-id-1 div.sk-estimator:hover label.sk-toggleable__label-arrow:before {color: black;}#sk-container-id-1 div.sk-toggleable__content {max-height: 0;max-width: 0;overflow: hidden;text-align: left;background-color: #f0f8ff;}#sk-container-id-1 div.sk-toggleable__content pre {margin: 0.2em;color: black;border-radius: 0.25em;background-color: #f0f8ff;}#sk-container-id-1 input.sk-toggleable__control:checked~div.sk-toggleable__content {max-height: 200px;max-width: 100%;overflow: auto;}#sk-container-id-1 input.sk-toggleable__control:checked~label.sk-toggleable__label-arrow:before {content: \"▾\";}#sk-container-id-1 div.sk-estimator input.sk-toggleable__control:checked~label.sk-toggleable__label {background-color: #d4ebff;}#sk-container-id-1 div.sk-label input.sk-toggleable__control:checked~label.sk-toggleable__label {background-color: #d4ebff;}#sk-container-id-1 input.sk-hidden--visually {border: 0;clip: rect(1px 1px 1px 1px);clip: rect(1px, 1px, 1px, 1px);height: 1px;margin: -1px;overflow: hidden;padding: 0;position: absolute;width: 1px;}#sk-container-id-1 div.sk-estimator {font-family: monospace;background-color: #f0f8ff;border: 1px dotted black;border-radius: 0.25em;box-sizing: border-box;margin-bottom: 0.5em;}#sk-container-id-1 div.sk-estimator:hover {background-color: #d4ebff;}#sk-container-id-1 div.sk-parallel-item::after {content: \"\";width: 100%;border-bottom: 1px solid gray;flex-grow: 1;}#sk-container-id-1 div.sk-label:hover label.sk-toggleable__label {background-color: #d4ebff;}#sk-container-id-1 div.sk-serial::before {content: \"\";position: absolute;border-left: 1px solid gray;box-sizing: border-box;top: 0;bottom: 0;left: 50%;z-index: 0;}#sk-container-id-1 div.sk-serial {display: flex;flex-direction: column;align-items: center;background-color: white;padding-right: 0.2em;padding-left: 0.2em;position: relative;}#sk-container-id-1 div.sk-item {position: relative;z-index: 1;}#sk-container-id-1 div.sk-parallel {display: flex;align-items: stretch;justify-content: center;background-color: white;position: relative;}#sk-container-id-1 div.sk-item::before, #sk-container-id-1 div.sk-parallel-item::before {content: \"\";position: absolute;border-left: 1px solid gray;box-sizing: border-box;top: 0;bottom: 0;left: 50%;z-index: -1;}#sk-container-id-1 div.sk-parallel-item {display: flex;flex-direction: column;z-index: 1;position: relative;background-color: white;}#sk-container-id-1 div.sk-parallel-item:first-child::after {align-self: flex-end;width: 50%;}#sk-container-id-1 div.sk-parallel-item:last-child::after {align-self: flex-start;width: 50%;}#sk-container-id-1 div.sk-parallel-item:only-child::after {width: 0;}#sk-container-id-1 div.sk-dashed-wrapped {border: 1px dashed gray;margin: 0 0.4em 0.5em 0.4em;box-sizing: border-box;padding-bottom: 0.4em;background-color: white;}#sk-container-id-1 div.sk-label label {font-family: monospace;font-weight: bold;display: inline-block;line-height: 1.2em;}#sk-container-id-1 div.sk-label-container {text-align: center;}#sk-container-id-1 div.sk-container {/* jupyter's `normalize.less` sets `[hidden] { display: none; }` but bootstrap.min.css set `[hidden] { display: none !important; }` so we also need the `!important` here to be able to override the default hidden behavior on the sphinx rendered scikit-learn.org. See: https://github.com/scikit-learn/scikit-learn/issues/21755 */display: inline-block !important;position: relative;}#sk-container-id-1 div.sk-text-repr-fallback {display: none;}</style><div id=\"sk-container-id-1\" class=\"sk-top-container\"><div class=\"sk-text-repr-fallback\"><pre>LinearRegression()</pre><b>In a Jupyter environment, please rerun this cell to show the HTML representation or trust the notebook. <br />On GitHub, the HTML representation is unable to render, please try loading this page with nbviewer.org.</b></div><div class=\"sk-container\" hidden><div class=\"sk-item\"><div class=\"sk-estimator sk-toggleable\"><input class=\"sk-toggleable__control sk-hidden--visually\" id=\"sk-estimator-id-1\" type=\"checkbox\" checked><label for=\"sk-estimator-id-1\" class=\"sk-toggleable__label sk-toggleable__label-arrow\">LinearRegression</label><div class=\"sk-toggleable__content\"><pre>LinearRegression()</pre></div></div></div></div></div>"
      ],
      "text/plain": [
       "LinearRegression()"
      ]
     },
     "execution_count": 11,
     "metadata": {},
     "output_type": "execute_result"
    }
   ],
   "source": [
    "reg.fit(df[['speed','car_age','experience']],df.risk)"
   ]
  },
  {
   "cell_type": "code",
   "execution_count": 12,
   "id": "ef72ce0f-4c9c-45f0-9fd0-86a6c50ef80a",
   "metadata": {},
   "outputs": [
    {
     "name": "stderr",
     "output_type": "stream",
     "text": [
      "/opt/conda/envs/anaconda-panel-2023.05-py310/lib/python3.11/site-packages/sklearn/base.py:464: UserWarning: X does not have valid feature names, but LinearRegression was fitted with feature names\n",
      "  warnings.warn(\n"
     ]
    },
    {
     "data": {
      "text/plain": [
       "array([57.17121896])"
      ]
     },
     "execution_count": 12,
     "metadata": {},
     "output_type": "execute_result"
    }
   ],
   "source": [
    "reg.predict([[137,3,3.334615]])"
   ]
  },
  {
   "cell_type": "code",
   "execution_count": 13,
   "id": "8e3f0cf1-bb61-466e-b6d5-fbadf252664e",
   "metadata": {},
   "outputs": [
    {
     "data": {
      "text/plain": [
       "array([-0.0302617 , -0.14473869, -0.27965041])"
      ]
     },
     "execution_count": 13,
     "metadata": {},
     "output_type": "execute_result"
    }
   ],
   "source": [
    "reg.coef_"
   ]
  },
  {
   "cell_type": "code",
   "execution_count": 14,
   "id": "89150fe9-bb68-4474-9938-915261fc8a23",
   "metadata": {},
   "outputs": [
    {
     "data": {
      "text/plain": [
       "62.68381438116154"
      ]
     },
     "execution_count": 14,
     "metadata": {},
     "output_type": "execute_result"
    }
   ],
   "source": [
    "reg.intercept_"
   ]
  },
  {
   "cell_type": "code",
   "execution_count": 15,
   "id": "04267276-f96b-44a6-89a6-10681651068e",
   "metadata": {},
   "outputs": [
    {
     "data": {
      "text/plain": [
       "57.17121895921938"
      ]
     },
     "execution_count": 15,
     "metadata": {},
     "output_type": "execute_result"
    }
   ],
   "source": [
    "-0.0302617*137 + -0.14473869*3 + -0.27965041*3.334615 +62.68381438116153"
   ]
  },
  {
   "cell_type": "code",
   "execution_count": 16,
   "id": "41bcb6bb-186a-4067-ad76-59ebdbdb34ee",
   "metadata": {},
   "outputs": [
    {
     "data": {
      "text/plain": [
       "0       8.104042\n",
       "1      11.429461\n",
       "2      14.819477\n",
       "3      15.343897\n",
       "4      16.455807\n",
       "         ...    \n",
       "275     8.630563\n",
       "276     6.656316\n",
       "277    14.610983\n",
       "278    13.874352\n",
       "279     3.334615\n",
       "Name: experience, Length: 280, dtype: float64"
      ]
     },
     "execution_count": 16,
     "metadata": {},
     "output_type": "execute_result"
    }
   ],
   "source": [
    "df.experience"
   ]
  },
  {
   "cell_type": "code",
   "execution_count": null,
   "id": "e97eb753-f235-4f44-bb28-a88f7cf745bd",
   "metadata": {},
   "outputs": [],
   "source": [
    "exm_fit = df.experience.mean()"
   ]
  },
  {
   "cell_type": "code",
   "execution_count": null,
   "id": "b5e3352d-9075-41c8-a8e0-fa4a059ca854",
   "metadata": {},
   "outputs": [],
   "source": [
    "exm_fit"
   ]
  },
  {
   "cell_type": "code",
   "execution_count": null,
   "id": "010c9514-4ab6-418a-9a75-b40ac12d16de",
   "metadata": {},
   "outputs": [],
   "source": [
    "df.experience = df.experience.fillna(exm_fit)\n"
   ]
  },
  {
   "cell_type": "code",
   "execution_count": null,
   "id": "1dd3b96b-f62e-4a15-b97c-141e78588475",
   "metadata": {},
   "outputs": [],
   "source": [
    "df"
   ]
  },
  {
   "cell_type": "code",
   "execution_count": null,
   "id": "1d0efa7e-c446-4680-91a6-dedba5ca5f6f",
   "metadata": {},
   "outputs": [],
   "source": [
    "reg = linear_model.LinearRegression()"
   ]
  },
  {
   "cell_type": "code",
   "execution_count": null,
   "id": "50359dc8-6f09-487d-918a-a9400d4c0e85",
   "metadata": {},
   "outputs": [],
   "source": [
    "reg.fit(df[['speed','car_age','experience']],df.risk)"
   ]
  },
  {
   "cell_type": "code",
   "execution_count": null,
   "id": "aab0d340-f4d1-4d5e-bab2-d45ad63a8706",
   "metadata": {},
   "outputs": [],
   "source": [
    "reg.predict([[137,3,3.334615]])"
   ]
  },
  {
   "cell_type": "code",
   "execution_count": null,
   "id": "b6037aaa-4c11-4bbc-b8dc-43180420d009",
   "metadata": {},
   "outputs": [],
   "source": []
  }
 ],
 "metadata": {
  "kernelspec": {
   "display_name": "anaconda-panel-2023.05-py310",
   "language": "python",
   "name": "conda-env-anaconda-panel-2023.05-py310-py"
  },
  "language_info": {
   "codemirror_mode": {
    "name": "ipython",
    "version": 3
   },
   "file_extension": ".py",
   "mimetype": "text/x-python",
   "name": "python",
   "nbconvert_exporter": "python",
   "pygments_lexer": "ipython3",
   "version": "3.11.5"
  }
 },
 "nbformat": 4,
 "nbformat_minor": 5
}
