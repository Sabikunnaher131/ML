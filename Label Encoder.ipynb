{
 "cells": [
  {
   "cell_type": "code",
   "execution_count": 1,
   "id": "cbd70da2-af1d-4ef6-879c-98107fc29da1",
   "metadata": {},
   "outputs": [],
   "source": [
    "classes = ['ClassA', 'ClassB', 'ClassC', 'ClassD']\n",
    "\n",
    "instances = ['ClassA', 'ClassB', 'ClassC', 'ClassD', 'ClassA', 'ClassB', 'ClassC', 'ClassD', 'ClassA', 'ClassB']"
   ]
  },
  {
   "cell_type": "code",
   "execution_count": 2,
   "id": "1c3e1991-1632-44a5-bcff-066bf24392f5",
   "metadata": {},
   "outputs": [
    {
     "name": "stdout",
     "output_type": "stream",
     "text": [
      "Encoded labels: [0, 1, 2, 3, 0, 1, 2, 3, 0, 1]\n"
     ]
    }
   ],
   "source": [
    "label_to_int = {label: index for index, label in enumerate(classes)} #60 Days of Python ; Day 25\n",
    "encoded_labels = [label_to_int[label] for label in instances]\n",
    "\n",
    "print(\"Encoded labels:\", encoded_labels)"
   ]
  },
  {
   "cell_type": "code",
   "execution_count": 3,
   "id": "1e8745be-410e-46fc-b5dd-7f71358aca1c",
   "metadata": {},
   "outputs": [
    {
     "name": "stdout",
     "output_type": "stream",
     "text": [
      "Encoded labels: [0, 1, 2, 3, 0, 1, 2, 3, 0, 1]\n",
      "Decoded labels: ['ClassA', 'ClassB', 'ClassC', 'ClassD', 'ClassA', 'ClassB', 'ClassC', 'ClassD', 'ClassA', 'ClassB']\n"
     ]
    }
   ],
   "source": [
    "int_to_label = {index: label for label, index in label_to_int.items()}\n",
    "decoded_labels = [int_to_label[index] for index in encoded_labels]\n",
    "\n",
    "print(\"Encoded labels:\", encoded_labels)\n",
    "print(\"Decoded labels:\", decoded_labels)"
   ]
  },
  {
   "cell_type": "code",
   "execution_count": 4,
   "id": "5ed147ac-0e73-4c11-9638-c78e2025cd7b",
   "metadata": {},
   "outputs": [],
   "source": [
    "from sklearn.preprocessing import LabelEncoder"
   ]
  },
  {
   "cell_type": "code",
   "execution_count": 5,
   "id": "a0afa2cb-757a-4862-9802-632e2650dd6c",
   "metadata": {},
   "outputs": [
    {
     "name": "stdout",
     "output_type": "stream",
     "text": [
      "Encoded labels: [0 1 2 3 0 1 2 3 0 1]\n"
     ]
    }
   ],
   "source": [
    "label_encoder = LabelEncoder()\n",
    "encoded_labels = label_encoder.fit_transform(instances)\n",
    "\n",
    "print(\"Encoded labels:\", encoded_labels)"
   ]
  },
  {
   "cell_type": "code",
   "execution_count": 6,
   "id": "1805107c-e034-4bcc-b563-67277d29f39b",
   "metadata": {},
   "outputs": [
    {
     "name": "stdout",
     "output_type": "stream",
     "text": [
      "Encoded labels: [0 1 2 3 0 1 2 3 0 1]\n",
      "Original labels: ['ClassA' 'ClassB' 'ClassC' 'ClassD' 'ClassA' 'ClassB' 'ClassC' 'ClassD'\n",
      " 'ClassA' 'ClassB']\n"
     ]
    }
   ],
   "source": [
    "original_labels = label_encoder.inverse_transform(encoded_labels)\n",
    "\n",
    "print(\"Encoded labels:\", encoded_labels)\n",
    "print(\"Original labels:\", original_labels)"
   ]
  }
 ],
 "metadata": {
  "kernelspec": {
   "display_name": "anaconda-panel-2023.05-py310",
   "language": "python",
   "name": "conda-env-anaconda-panel-2023.05-py310-py"
  },
  "language_info": {
   "codemirror_mode": {
    "name": "ipython",
    "version": 3
   },
   "file_extension": ".py",
   "mimetype": "text/x-python",
   "name": "python",
   "nbconvert_exporter": "python",
   "pygments_lexer": "ipython3",
   "version": "3.11.5"
  }
 },
 "nbformat": 4,
 "nbformat_minor": 5
}
