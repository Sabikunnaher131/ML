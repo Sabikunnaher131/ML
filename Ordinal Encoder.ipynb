{
 "cells": [
  {
   "cell_type": "code",
   "execution_count": 1,
   "id": "224c682f-7e09-481d-95e7-9f869391df21",
   "metadata": {},
   "outputs": [],
   "source": [
    "import pandas as pd\n",
    "from sklearn.preprocessing import OrdinalEncoder"
   ]
  },
  {
   "cell_type": "code",
   "execution_count": null,
   "id": "02013e66-c19d-42a7-814a-01bb5267e273",
   "metadata": {},
   "outputs": [],
   "source": [
    "data = [\n",
    "    ['good'], ['bad'], ['excellent'], ['average'], \n",
    "    ['good'], ['average'], ['excellent'], ['bad'], \n",
    "    ['average'], ['good']\n",
    "]"
   ]
  },
  {
   "cell_type": "code",
   "execution_count": null,
   "id": "70756d69-6d25-4489-9215-21adda0baf4f",
   "metadata": {},
   "outputs": [],
   "source": [
    "data = pd.DataFrame(data=data, columns=['reviews'])\n",
    "data.head()"
   ]
  },
  {
   "cell_type": "code",
   "execution_count": null,
   "id": "fb4314cf-982f-4b73-8f88-fdd605bee797",
   "metadata": {},
   "outputs": [],
   "source": [
    "data.shape"
   ]
  },
  {
   "cell_type": "code",
   "execution_count": null,
   "id": "d251dc94-5dfc-45f8-9c28-bc3b3fcebc17",
   "metadata": {},
   "outputs": [],
   "source": [
    "categories = [['bad', 'average', 'good', 'excellent']]"
   ]
  },
  {
   "cell_type": "code",
   "execution_count": null,
   "id": "93592ce9-d2a2-4ff6-9d32-bcf756a69ed6",
   "metadata": {},
   "outputs": [],
   "source": [
    "categories"
   ]
  },
  {
   "cell_type": "code",
   "execution_count": null,
   "id": "654b6b6a-e678-4854-98a5-3501f7fd592a",
   "metadata": {},
   "outputs": [],
   "source": [
    "encoder = OrdinalEncoder(categories=categorie"
   ]
  },
  {
   "cell_type": "code",
   "execution_count": null,
   "id": "fb4aa9ee-2bc5-498a-95c1-cf069b17f808",
   "metadata": {},
   "outputs": [],
   "source": [
    "encoded_data = encoder.fit_transform(data)\n",
    "encoded_data"
   ]
  },
  {
   "cell_type": "code",
   "execution_count": null,
   "id": "261c5338-7a2d-4f36-a274-79f89546772c",
   "metadata": {},
   "outputs": [],
   "source": []
  }
 ],
 "metadata": {
  "kernelspec": {
   "display_name": "anaconda-ai-2024.04-py310",
   "language": "python",
   "name": "conda-env-anaconda-ai-2024.04-py310-py"
  },
  "language_info": {
   "codemirror_mode": {
    "name": "ipython",
    "version": 3
   },
   "file_extension": ".py",
   "mimetype": "text/x-python",
   "name": "python",
   "nbconvert_exporter": "python",
   "pygments_lexer": "ipython3",
   "version": "3.10.13"
  }
 },
 "nbformat": 4,
 "nbformat_minor": 5
}
