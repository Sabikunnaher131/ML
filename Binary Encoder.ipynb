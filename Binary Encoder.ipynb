{
 "cells": [
  {
   "cell_type": "code",
   "execution_count": 3,
   "id": "e887b060-94d6-42dd-a748-d7a78be4fb6f",
   "metadata": {
    "scrolled": true
   },
   "outputs": [],
   "source": [
    "import pandas as pd\n",
    "import category_encoders as ce"
   ]
  },
  {
   "cell_type": "code",
   "execution_count": 4,
   "id": "6813eb69-f22e-4618-88f7-81bd75c378fc",
   "metadata": {},
   "outputs": [
    {
     "ename": "SyntaxError",
     "evalue": "incomplete input (2764675614.py, line 2)",
     "output_type": "error",
     "traceback": [
      "\u001b[0;36m  Cell \u001b[0;32mIn[4], line 2\u001b[0;36m\u001b[0m\n\u001b[0;31m    df = pd.DataFrame(data\u001b[0m\n\u001b[0m                          ^\u001b[0m\n\u001b[0;31mSyntaxError\u001b[0m\u001b[0;31m:\u001b[0m incomplete input\n"
     ]
    }
   ],
   "source": [
    "data = {'Category': ['A', 'B', 'C', 'A', 'B', 'C', 'A', 'B', 'C']}\n",
    "df = pd.DataFrame(data"
   ]
  },
  {
   "cell_type": "code",
   "execution_count": null,
   "id": "cf2c6c3b-db0d-43bc-ba29-fc38545f5962",
   "metadata": {},
   "outputs": [],
   "source": [
    "df.head()"
   ]
  },
  {
   "cell_type": "code",
   "execution_count": null,
   "id": "0433b551-a724-43a1-928f-dd904604ba8d",
   "metadata": {},
   "outputs": [],
   "source": [
    "df.shape"
   ]
  },
  {
   "cell_type": "code",
   "execution_count": null,
   "id": "61ae47dd-20a9-4ede-bbab-0a043bed417d",
   "metadata": {},
   "outputs": [],
   "source": [
    "encoder = ce.BinaryEncoder(cols=['Category'], return_df=True)"
   ]
  },
  {
   "cell_type": "code",
   "execution_count": null,
   "id": "82702b1d-6fbd-4049-bc6c-32869bee5ae4",
   "metadata": {},
   "outputs": [],
   "source": [
    "df_binary_encoded = encoder.fit_transform(df)\n",
    "df_binary_encoded"
   ]
  }
 ],
 "metadata": {
  "kernelspec": {
   "display_name": "anaconda-ai-2024.04-py310",
   "language": "python",
   "name": "conda-env-anaconda-ai-2024.04-py310-py"
  },
  "language_info": {
   "codemirror_mode": {
    "name": "ipython",
    "version": 3
   },
   "file_extension": ".py",
   "mimetype": "text/x-python",
   "name": "python",
   "nbconvert_exporter": "python",
   "pygments_lexer": "ipython3",
   "version": "3.10.13"
  }
 },
 "nbformat": 4,
 "nbformat_minor": 5
}
