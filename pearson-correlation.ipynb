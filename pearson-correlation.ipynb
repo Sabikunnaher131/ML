{
 "cells": [
  {
   "cell_type": "code",
   "execution_count": null,
   "id": "390facbc-ccf7-4a31-93a0-38e5016e7dc5",
   "metadata": {},
   "outputs": [],
   "source": [
    "import pandas as pd"
   ]
  },
  {
   "cell_type": "code",
   "execution_count": null,
   "id": "47eefceb-0b33-4351-a11b-261f29ab528b",
   "metadata": {},
   "outputs": [],
   "source": [
    "data = {\n",
    "'X': [6, 1, 9, 4, 5, 7, 10],\n",
    "'Y': [1, 3, 5, 4, 6, 9, 8]\n",
    "}"
   ]
  },
  {
   "cell_type": "code",
   "execution_count": null,
   "id": "dfac769a-912c-4425-9938-0c8cf6e2731b",
   "metadata": {},
   "outputs": [],
   "source": [
    "data"
   ]
  }
 ],
 "metadata": {
  "kernelspec": {
   "display_name": "anaconda-panel-2023.05-py310",
   "language": "python",
   "name": "conda-env-anaconda-panel-2023.05-py310-py"
  },
  "language_info": {
   "codemirror_mode": {
    "name": "ipython",
    "version": 3
   },
   "file_extension": ".py",
   "mimetype": "text/x-python",
   "name": "python",
   "nbconvert_exporter": "python",
   "pygments_lexer": "ipython3",
   "version": "3.11.5"
  }
 },
 "nbformat": 4,
 "nbformat_minor": 5
}
